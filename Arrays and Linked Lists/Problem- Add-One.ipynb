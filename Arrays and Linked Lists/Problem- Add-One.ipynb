{
 "cells": [
  {
   "cell_type": "markdown",
   "metadata": {
    "graffitiCellId": "id_m7du2yn"
   },
   "source": [
    "### Problem Statement\n",
    "\n",
    "You are given a non-negative number in the form of list elements. For example, the number `123` would be provided as `arr = [1, 2, 3]`. Add one to the number and return the output in the form of a new list. \n",
    "\n",
    "**Example 1:**\n",
    "* `input = [1, 2, 3]`\n",
    "* `output = [1, 2, 4]`\n",
    "\n",
    "\n",
    "**Example 2:**\n",
    "* `input = [1, 2, 9]`\n",
    "* `output = [1, 3, 0]`\n",
    "\n",
    "**Example 3:**\n",
    "* `input = [9, 9, 9]`\n",
    "* `output = [1, 0, 0, 0]`\n",
    "\n",
    "\n",
    "**Challenge:**\n",
    "One way to solve this problem is to convert the input array into a number and then add one to it. For example, if we have `input = [1, 2, 3]`, you could solve this problem by creating the number `123` and then separating the digits of the output number `124`.\n",
    "\n",
    "But can you solve it in some other way?\n",
    "\n",
    "### Exercise - Write your function definition here. \n",
    "**Note** - Try proposing a non-recursive solution. We will see a recursive solution in the next lesson \"Recursion\". "
   ]
  },
  {
   "cell_type": "code",
   "execution_count": null,
   "metadata": {
    "graffitiCellId": "id_c3itdzc"
   },
   "outputs": [],
   "source": [
    "def add_one(arr):\n",
    "    \"\"\"\n",
    "    :param: arr - list of digits representing some number x\n",
    "    return a list with digits represengint (x + 1)\n",
    "    \"\"\"\n",
    "    pass"
   ]
  },
  {
   "cell_type": "code",
   "execution_count": null,
   "metadata": {
    "graffitiCellId": "id_ejl0gzn"
   },
   "outputs": [],
   "source": [
    "# A helper function for Test Cases\n",
    "def test_function(test_case):\n",
    "    arr = test_case[0]\n",
    "    solution = test_case[1]\n",
    "    \n",
    "    output = add_one(arr)\n",
    "    for index, element in enumerate(output):\n",
    "        if element != solution[index]:\n",
    "            print(\"Fail\")\n",
    "            return\n",
    "    print(\"Pass\")      "
   ]
  },
  {
   "cell_type": "code",
   "execution_count": null,
   "metadata": {
    "graffitiCellId": "id_r171xpy"
   },
   "outputs": [],
   "source": [
    "# Test Case 1\n",
    "arr = [0]\n",
    "solution = [1]\n",
    "test_case = [arr, solution]\n",
    "test_function(test_case)"
   ]
  },
  {
   "cell_type": "code",
   "execution_count": null,
   "metadata": {
    "graffitiCellId": "id_hxtikz2"
   },
   "outputs": [],
   "source": [
    "# Test Case 2\n",
    "arr = [1, 2, 3]\n",
    "solution = [1, 2, 4]\n",
    "test_case = [arr, solution]\n",
    "test_function(test_case)"
   ]
  },
  {
   "cell_type": "code",
   "execution_count": null,
   "metadata": {
    "graffitiCellId": "id_ov2b5hw"
   },
   "outputs": [],
   "source": [
    "# Test Case 3\n",
    "arr = [9, 9, 9]\n",
    "solution = [1, 0, 0, 0]\n",
    "test_case = [arr, solution]\n",
    "test_function(test_case)"
   ]
  },
  {
   "cell_type": "code",
   "execution_count": null,
   "metadata": {
    "graffitiCellId": "id_52m1azu"
   },
   "outputs": [],
   "source": []
  }
 ],
 "metadata": {
  "graffiti": {
   "firstAuthorId": "dev",
   "id": "id_s3vt1b9",
   "language": "EN"
  },
  "kernelspec": {
   "display_name": "Python 3",
   "language": "python",
   "name": "python3"
  },
  "language_info": {
   "codemirror_mode": {
    "name": "ipython",
    "version": 3
   },
   "file_extension": ".py",
   "mimetype": "text/x-python",
   "name": "python",
   "nbconvert_exporter": "python",
   "pygments_lexer": "ipython3",
   "version": "3.7.9"
  }
 },
 "nbformat": 4,
 "nbformat_minor": 2
}
